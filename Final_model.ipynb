{
 "cells": [
  {
   "cell_type": "code",
   "execution_count": 5,
   "id": "62a049e2-fe59-462d-863b-27cef76eb999",
   "metadata": {
    "tags": []
   },
   "outputs": [
    {
     "name": "stdout",
     "output_type": "stream",
     "text": [
      "Accuracy: 0.9611111111111111\n",
      "              precision    recall  f1-score   support\n",
      "\n",
      "       False       0.98      0.98      0.98      1765\n",
      "        True       0.00      0.00      0.00        35\n",
      "\n",
      "    accuracy                           0.96      1800\n",
      "   macro avg       0.49      0.49      0.49      1800\n",
      "weighted avg       0.96      0.96      0.96      1800\n",
      "\n"
     ]
    },
    {
     "data": {
      "text/plain": [
       "['promo_code_abuse_model.pkl']"
      ]
     },
     "execution_count": 5,
     "metadata": {},
     "output_type": "execute_result"
    }
   ],
   "source": [
    "from imblearn.over_sampling import RandomOverSampler\n",
    "from sklearn.model_selection import train_test_split\n",
    "from sklearn.ensemble import RandomForestClassifier\n",
    "from sklearn.metrics import accuracy_score, classification_report\n",
    "from sklearn.preprocessing import OneHotEncoder\n",
    "from sklearn.compose import ColumnTransformer\n",
    "import pandas as pd\n",
    "import joblib\n",
    "\n",
    "# Load the dataset\n",
    "data = pd.read_csv('user_dataset_train_v2.csv')\n",
    "\n",
    "# Perform data cleaning if needed (e.g., removing duplicates)\n",
    "data = data.drop_duplicates()\n",
    "\n",
    "# Define features (X) and target variable (y)\n",
    "X = data[['is_email_verified', 'is_phone_verified', 'city', 'gender', 'timezone', 'user_agent', 'device_id', 'ip_address']]\n",
    "y = data['is_abuser']\n",
    "\n",
    "# Define categorical features for OneHotEncoding\n",
    "categorical_features = ['city', 'gender', 'timezone']\n",
    "categorical_transformer = OneHotEncoder(handle_unknown='ignore')\n",
    "\n",
    "# Create a preprocessor to apply transformations\n",
    "preprocessor = ColumnTransformer(\n",
    "    transformers=[\n",
    "        ('cat', categorical_transformer, categorical_features)\n",
    "    ])\n",
    "\n",
    "# Split the data into training and testing sets\n",
    "X_train, X_test, y_train, y_test = train_test_split(X, y, test_size=0.2, random_state=42)\n",
    "\n",
    "# Handle data imbalance using RandomOverSampler\n",
    "X_train_resampled, y_train_resampled = RandomOverSampler(sampling_strategy=0.1).fit_resample(X_train, y_train)\n",
    "# print(pd.Series(y_train_resampled).value_counts())\n",
    "\n",
    "# Initialize the RandomForestClassifier\n",
    "model = RandomForestClassifier()\n",
    "\n",
    "# Create a pipeline\n",
    "from sklearn.pipeline import Pipeline\n",
    "pipeline = Pipeline(steps=[('preprocessor', preprocessor),\n",
    "                           ('classifier', model)])\n",
    "\n",
    "# Train the model\n",
    "pipeline.fit(X_train_resampled, y_train_resampled)\n",
    "\n",
    "# Make predictions on the test set\n",
    "y_pred = pipeline.predict(X_test)\n",
    "\n",
    "# Evaluate the model\n",
    "accuracy = accuracy_score(y_test, y_pred)\n",
    "print(f'Accuracy: {accuracy}')\n",
    "\n",
    "# Generate a classification report\n",
    "print(classification_report(y_test, y_pred))\n",
    "\n",
    "#Save the model for deployment\n",
    "joblib.dump(model, 'promo_code_abuse_model.pkl')"
   ]
  },
  {
   "cell_type": "code",
   "execution_count": 3,
   "id": "ed44233c-50ac-4e88-b745-7c3b1fdf8dbe",
   "metadata": {
    "tags": []
   },
   "outputs": [],
   "source": [
    "# Assuming 'X_test_new' is your new testing data\n",
    "X_test_new = pd.read_csv('user_dataset_test_v2.csv')\n",
    "\n",
    "y_test_new = X_test_new['is_abuser']\n",
    "# Drop the 'is_abuser' column from X_test_new\n",
    "X_test_new = X_test_new.drop(columns=['is_abuser'])\n",
    "\n",
    "# Make predictions on the new testing data\n",
    "y_pred_new = pipeline.predict(X_test_new)\n",
    "\n",
    "X_test_new['model_output'] = y_pred_new\n",
    "X_test_new['is_abuser'] = y_test_new\n",
    "X_test_new.to_csv('user_dataset_test_with_predictions.csv', index=False)\n",
    "# Compare the predicted values with the actual values in the 'is_abuser' column\n",
    "# Assuming 'y_test_new' is the actual 'is_abuser' column in your new testing data\n",
    "# accuracy_new = accuracy_score(y_test_new, y_pred_new)\n",
    "# print(f'Accuracy on new data: {accuracy_new}')\n",
    "\n",
    "# Generate a classification report for the new data\n",
    "# print(classification_report(y_test_new, y_pred_new))\n"
   ]
  },
  {
   "cell_type": "code",
   "execution_count": null,
   "id": "632417b8-c025-49f1-96d4-b47576f17f1e",
   "metadata": {},
   "outputs": [],
   "source": []
  }
 ],
 "metadata": {
  "kernelspec": {
   "display_name": "Python (Local)",
   "language": "python",
   "name": "base"
  },
  "language_info": {
   "codemirror_mode": {
    "name": "ipython",
    "version": 3
   },
   "file_extension": ".py",
   "mimetype": "text/x-python",
   "name": "python",
   "nbconvert_exporter": "python",
   "pygments_lexer": "ipython3",
   "version": "3.10.14"
  }
 },
 "nbformat": 4,
 "nbformat_minor": 5
}
